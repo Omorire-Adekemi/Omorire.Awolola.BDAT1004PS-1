{
 "cells": [
  {
   "cell_type": "markdown",
   "id": "4900fa2d",
   "metadata": {},
   "source": [
    "# QUESTION 6\n",
    "You can turn a word into pig-Latin using the following two rules (simplified):• If the word starts with a consonant, move that letter to the end and append'ay'. For example, 'happy' becomes 'appyhay' and 'pencil' becomes 'encilpay'.• If the word starts with a vowel, simply append 'way' to the end of the word.For example, 'enter' becomes 'enterway' and 'other' becomes 'otherway' . For our purposes, there are 5 vowels: a, e, i, o, u (so we count y as a consonant).Write a function pig() that takes a word (i.e., a string) as input and returns its pig-Latin form. "
   ]
  },
  {
   "cell_type": "code",
   "execution_count": 6,
   "id": "1036cdff",
   "metadata": {},
   "outputs": [
    {
     "name": "stdout",
     "output_type": "stream",
     "text": [
      "appyhay\n",
      "enterway\n"
     ]
    }
   ],
   "source": [
    "def pig(word):\n",
    "    vowels = 'aeiou'\n",
    "    \n",
    "    if word[0] not in vowels:\n",
    "        # To move the consonant to the end and append 'ay'\n",
    "        return word[1:] + word[0] + 'ay'\n",
    "    else:\n",
    "        # To add 'way' to the end of the word\n",
    "        return word + 'way'\n",
    "\n",
    "# Write out a word\n",
    "print(pig('happy'))\n",
    "print(pig('enter'))\n"
   ]
  },
  {
   "cell_type": "markdown",
   "id": "f30a1603",
   "metadata": {},
   "source": [
    "# QUESTION 7\n",
    "Write (and evaluate) C# expressions that answer these questions:\n",
    "a. How many letters are there in 'Supercalifragilisticexpialidocious'?\n",
    "b. Does 'Supercalifragilisticexpialidocious' contain 'ice' as a substring?\n",
    "c. Which of the following words is the longest:Supercalifragilisticexpialidocious, Honorificabilitudinitatibus, or Bababadalgharaghtakamminarronnkonn?\n",
    "d. Which composer comes first in the dictionary: 'Berlioz', 'Borodin', 'Brian','Bartok', 'Bellini', 'Buxtehude', 'Bernstein'. Which one comes last?"
   ]
  },
  {
   "cell_type": "code",
   "execution_count": null,
   "id": "25d5367a",
   "metadata": {},
   "outputs": [],
   "source": []
  }
 ],
 "metadata": {
  "kernelspec": {
   "display_name": "Python 3 (ipykernel)",
   "language": "python",
   "name": "python3"
  },
  "language_info": {
   "codemirror_mode": {
    "name": "ipython",
    "version": 3
   },
   "file_extension": ".py",
   "mimetype": "text/x-python",
   "name": "python",
   "nbconvert_exporter": "python",
   "pygments_lexer": "ipython3",
   "version": "3.11.5"
  }
 },
 "nbformat": 4,
 "nbformat_minor": 5
}
